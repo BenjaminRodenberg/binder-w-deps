{
 "cells": [
  {
   "cell_type": "markdown",
   "id": "e7e4a49d-5fc1-481b-983a-45f143b351a3",
   "metadata": {
    "tags": []
   },
   "source": [
    "# Newton's method"
   ]
  },
  {
   "cell_type": "markdown",
   "id": "6f088afa-c4ca-4eb0-9ddf-909ab8d9514c",
   "metadata": {},
   "source": [
    "From [wikipedia article on Newtons's method](https://en.wikipedia.org/wiki/Newton's_method):\n",
    "\n",
    "> In numerical analysis, Newton's method, also known as the Newton–Raphson method, named after Isaac Newton and Joseph Raphson, is a root-finding algorithm which produces successively better approximations to the roots (or zeroes) of a real-valued function. The most basic version starts with a single-variable function $f$ defined for a real variable $x$, the function's derivative $f'$, and an initial guess $x_0$ for a root of $f$. If the function satisfies sufficient assumptions and the initial guess is close, then\n",
    ">\n",
    "> $$x_{1}=x_{0}-{\\frac {f(x_{0})}{f'(x_{0})}}$$\n",
    ">\n",
    "> is a better approximation of the root than $x_0$.\n",
    "\n",
    "Let's try to implement this."
   ]
  },
  {
   "cell_type": "markdown",
   "id": "c0e7eb9c-e65f-4259-bf38-f5e87ae8b845",
   "metadata": {},
   "source": [
    "First we define the function $f = x^2-x$:"
   ]
  },
  {
   "cell_type": "code",
   "execution_count": null,
   "id": "07291132-cd89-4aac-ab63-d8cc9029962c",
   "metadata": {},
   "outputs": [],
   "source": [
    "import sympy as sp\n",
    "\n",
    "sym_x = sp.Symbol('x')\n",
    "sym_f = sym_x**2 - sym_x\n",
    "f = sp.lambdify(sym_x, sym_f)"
   ]
  },
  {
   "cell_type": "markdown",
   "id": "3232d275-8f4f-4481-8aea-174591ac05f9",
   "metadata": {},
   "source": [
    "Then the derivative of $f$ as $f' = 2x-1$. We compute this symbolically:"
   ]
  },
  {
   "cell_type": "code",
   "execution_count": null,
   "id": "bf9302d3-74dd-4555-9f50-170a2f4ec1c4",
   "metadata": {},
   "outputs": [],
   "source": [
    "sym_df = sym_f.diff(sym_x)\n",
    "df = sp.lambdify(sym_x, sym_df)"
   ]
  },
  {
   "cell_type": "markdown",
   "id": "a0e9a649-529e-4eff-8fff-4cf2319157d8",
   "metadata": {},
   "source": [
    "A single Newton step $x_{k+1} = \\text{step}(f, f', x_k)$ is defined as:"
   ]
  },
  {
   "cell_type": "code",
   "execution_count": null,
   "id": "5e4037ff-bdea-423a-8097-81df42bdd99e",
   "metadata": {},
   "outputs": [],
   "source": [
    "def sym_newton_step(f, df, x0):\n",
    "    return x0 - f.subs(sym_x, x0) / df.subs(sym_x, x0)\n",
    "\n",
    "def newton_step(f, df, x0):\n",
    "    return x0 - f(x0) / df(x0)"
   ]
  },
  {
   "cell_type": "markdown",
   "id": "0be57c31-68aa-4b9e-8aad-b2861eeab675",
   "metadata": {},
   "source": [
    "The error is measured as $|f(x)|$, because this shows us how far we are away from the root, where $f(x^*) = 0$."
   ]
  },
  {
   "cell_type": "code",
   "execution_count": null,
   "id": "054cd742-9404-4056-b294-d46608734a3d",
   "metadata": {},
   "outputs": [],
   "source": [
    "def sym_error(f, x):\n",
    "    return abs(f.subs(sym_x, x))\n",
    "\n",
    "def error(f, x):\n",
    "    return abs(f(x))"
   ]
  },
  {
   "cell_type": "markdown",
   "id": "f8774782-9b22-4e62-b2ad-03af18675e02",
   "metadata": {},
   "source": [
    "We use an initial guess $x_0 = 2$ and create a list for storing results. To allow for arbitrary accuracy, we use symbolic computation:"
   ]
  },
  {
   "cell_type": "code",
   "execution_count": null,
   "id": "29449af8-71da-4bbc-8536-2841c6430162",
   "metadata": {},
   "outputs": [],
   "source": [
    "import sympy as sp\n",
    "\n",
    "x = sp.Number(2)\n",
    "y = 2\n",
    "xs = [x]\n",
    "ys = [y]"
   ]
  },
  {
   "cell_type": "markdown",
   "id": "a79b1be3-9358-4e5d-ac2f-2da264b49139",
   "metadata": {},
   "source": [
    "The cell below allows us to perform a single Newton step. The error is measured as $f(x_k)$, because this shows us how far we are away from the root, where $f(x^*) = 0$."
   ]
  },
  {
   "cell_type": "code",
   "execution_count": null,
   "id": "04127fa7-b577-41e0-a43f-9e0a78ef0a5a",
   "metadata": {},
   "outputs": [],
   "source": [
    "x = sym_newton_step(sym_f, sym_df, x)\n",
    "y = newton_step(f, df, y)\n",
    "xs.append(x)\n",
    "ys.append(y)\n",
    "print(f\"Symbolic: After {len(xs)-1} iteration we get x={x}\")\n",
    "print(f\"Symbolic: The error of is {sym_error(sym_f, x)}\")\n",
    "print(f\"Numeric:  After {len(ys)-1} iteration we get x={y}\")\n",
    "print(f\"Numeric:  The error of is {error(f, y)}\")"
   ]
  },
  {
   "cell_type": "markdown",
   "id": "373dbea9-d244-4f36-98e9-587d8677c661",
   "metadata": {},
   "source": [
    "We can just repeat this to perform additional steps:"
   ]
  },
  {
   "cell_type": "code",
   "execution_count": null,
   "id": "de300e42-302a-4d95-962a-7bd93ff4d6e5",
   "metadata": {},
   "outputs": [],
   "source": [
    "for _ in range(10):\n",
    "    x = sym_newton_step(sym_f, sym_df, x)\n",
    "    y = newton_step(f, df, y)\n",
    "    xs.append(x)\n",
    "    ys.append(y)\n",
    "    print(f\"Symbolic: After {len(xs)-1} iteration we get x={x}\")\n",
    "    print(f\"Symbolic: The error of is {sym_error(sym_f, x)}\")\n",
    "    print(f\"Numeric:  After {len(ys)-1} iteration we get x={y}\")\n",
    "    print(f\"Numeric:  The error of is {error(f, y)}\")"
   ]
  },
  {
   "cell_type": "markdown",
   "id": "b66f541a-3626-4a8b-813d-2a6fab8cfe72",
   "metadata": {},
   "source": [
    "The history of our iterations and errors looks the following:"
   ]
  },
  {
   "cell_type": "code",
   "execution_count": null,
   "id": "bf25dd19-fc11-4b1a-958c-8968cba4d8f0",
   "metadata": {},
   "outputs": [],
   "source": [
    "print(f\"Symbolic: Iteration history: {xs}\")\n",
    "print(f\"Symbolic: Error history: {[sym_error(sym_f, x) for x in xs]}\")\n",
    "print(f\"Numeric:  Iteration history: {ys}\")\n",
    "print(f\"Numeric:  Error history: {[error(f, y) for y in ys]}\")"
   ]
  },
  {
   "cell_type": "markdown",
   "id": "339640a1-ac80-4507-88c9-a2a77c06d8d4",
   "metadata": {},
   "source": [
    "Let's visualize this using `matplotlib`:"
   ]
  },
  {
   "cell_type": "code",
   "execution_count": null,
   "id": "1e3cc34c-65a1-4a18-90b3-82bdddc945ff",
   "metadata": {},
   "outputs": [],
   "source": [
    "from matplotlib import pyplot as plt\n",
    "plt.semilogy(range(len(xs)), [sym_error(sym_f, x) for x in xs])\n",
    "plt.semilogy(range(len(xs)), [error(f, y) for y in ys])\n",
    "plt.grid()"
   ]
  }
 ],
 "metadata": {
  "kernelspec": {
   "display_name": "Python 3 (ipykernel)",
   "language": "python",
   "name": "python3"
  },
  "language_info": {
   "codemirror_mode": {
    "name": "ipython",
    "version": 3
   },
   "file_extension": ".py",
   "mimetype": "text/x-python",
   "name": "python",
   "nbconvert_exporter": "python",
   "pygments_lexer": "ipython3",
   "version": "3.8.10"
  }
 },
 "nbformat": 4,
 "nbformat_minor": 5
}
